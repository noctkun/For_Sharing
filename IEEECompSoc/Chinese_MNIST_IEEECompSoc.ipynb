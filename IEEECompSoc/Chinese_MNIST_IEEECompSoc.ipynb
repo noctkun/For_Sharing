{
  "cells": [
    {
      "cell_type": "markdown",
      "source": [
        "# Ganesh Kumar"
      ],
      "metadata": {
        "id": "1N8_OWHFaEsw"
      },
      "id": "1N8_OWHFaEsw"
    },
    {
      "cell_type": "code",
      "source": [
        "!pip install opendatasets --upgrade\n",
        "import opendatasets as od\n",
        "dataset_url = 'https://www.kaggle.com/datasets/gpreda/chinese-mnist'\n",
        "od.download(dataset_url)"
      ],
      "metadata": {
        "colab": {
          "base_uri": "https://localhost:8080/"
        },
        "id": "WFNAHEo3NFYd",
        "outputId": "63279f7e-4e5b-4605-f14d-ebdc0bdf0449"
      },
      "id": "WFNAHEo3NFYd",
      "execution_count": 1,
      "outputs": [
        {
          "output_type": "stream",
          "name": "stdout",
          "text": [
            "Looking in indexes: https://pypi.org/simple, https://us-python.pkg.dev/colab-wheels/public/simple/\n",
            "Collecting opendatasets\n",
            "  Downloading opendatasets-0.1.22-py3-none-any.whl (15 kB)\n",
            "Requirement already satisfied: tqdm in /usr/local/lib/python3.10/dist-packages (from opendatasets) (4.65.0)\n",
            "Requirement already satisfied: kaggle in /usr/local/lib/python3.10/dist-packages (from opendatasets) (1.5.13)\n",
            "Requirement already satisfied: click in /usr/local/lib/python3.10/dist-packages (from opendatasets) (8.1.3)\n",
            "Requirement already satisfied: six>=1.10 in /usr/local/lib/python3.10/dist-packages (from kaggle->opendatasets) (1.16.0)\n",
            "Requirement already satisfied: certifi in /usr/local/lib/python3.10/dist-packages (from kaggle->opendatasets) (2022.12.7)\n",
            "Requirement already satisfied: python-dateutil in /usr/local/lib/python3.10/dist-packages (from kaggle->opendatasets) (2.8.2)\n",
            "Requirement already satisfied: requests in /usr/local/lib/python3.10/dist-packages (from kaggle->opendatasets) (2.27.1)\n",
            "Requirement already satisfied: python-slugify in /usr/local/lib/python3.10/dist-packages (from kaggle->opendatasets) (8.0.1)\n",
            "Requirement already satisfied: urllib3 in /usr/local/lib/python3.10/dist-packages (from kaggle->opendatasets) (1.26.15)\n",
            "Requirement already satisfied: text-unidecode>=1.3 in /usr/local/lib/python3.10/dist-packages (from python-slugify->kaggle->opendatasets) (1.3)\n",
            "Requirement already satisfied: charset-normalizer~=2.0.0 in /usr/local/lib/python3.10/dist-packages (from requests->kaggle->opendatasets) (2.0.12)\n",
            "Requirement already satisfied: idna<4,>=2.5 in /usr/local/lib/python3.10/dist-packages (from requests->kaggle->opendatasets) (3.4)\n",
            "Installing collected packages: opendatasets\n",
            "Successfully installed opendatasets-0.1.22\n",
            "Please provide your Kaggle credentials to download this dataset. Learn more: http://bit.ly/kaggle-creds\n",
            "Your Kaggle username: noctkun\n",
            "Your Kaggle Key: ··········\n",
            "Downloading chinese-mnist.zip to ./chinese-mnist\n"
          ]
        },
        {
          "output_type": "stream",
          "name": "stderr",
          "text": [
            "100%|██████████| 16.5M/16.5M [00:01<00:00, 12.9MB/s]\n"
          ]
        },
        {
          "output_type": "stream",
          "name": "stdout",
          "text": [
            "\n"
          ]
        }
      ]
    },
    {
      "cell_type": "code",
      "execution_count": 2,
      "id": "f8fb7496",
      "metadata": {
        "_cell_guid": "b1076dfc-b9ad-4769-8c92-a6c4dae69d19",
        "_uuid": "8f2839f25d086af736a60e9eeb907d3b93b6e0e5",
        "execution": {
          "iopub.execute_input": "2022-02-15T23:24:53.535927Z",
          "iopub.status.busy": "2022-02-15T23:24:53.535015Z",
          "iopub.status.idle": "2022-02-15T23:24:53.541788Z",
          "shell.execute_reply": "2022-02-15T23:24:53.542853Z",
          "shell.execute_reply.started": "2022-02-15T23:03:12.714118Z"
        },
        "papermill": {
          "duration": 0.039245,
          "end_time": "2022-02-15T23:24:53.543222",
          "exception": false,
          "start_time": "2022-02-15T23:24:53.503977",
          "status": "completed"
        },
        "tags": [],
        "id": "f8fb7496"
      },
      "outputs": [],
      "source": [
        "import numpy as np \n",
        "import pandas as pd "
      ]
    },
    {
      "cell_type": "code",
      "execution_count": 3,
      "id": "8b0aae13",
      "metadata": {
        "execution": {
          "iopub.execute_input": "2022-02-15T23:24:53.593975Z",
          "iopub.status.busy": "2022-02-15T23:24:53.593012Z",
          "iopub.status.idle": "2022-02-15T23:24:53.596252Z",
          "shell.execute_reply": "2022-02-15T23:24:53.597088Z",
          "shell.execute_reply.started": "2022-02-15T23:03:13.733401Z"
        },
        "papermill": {
          "duration": 0.029275,
          "end_time": "2022-02-15T23:24:53.597292",
          "exception": false,
          "start_time": "2022-02-15T23:24:53.568017",
          "status": "completed"
        },
        "tags": [],
        "id": "8b0aae13"
      },
      "outputs": [],
      "source": [
        "IMAGE_PATH = \"chinese-mnist/data/data/\"\n",
        "INFO_PATH = \"chinese-mnist/chinese_mnist.csv\""
      ]
    },
    {
      "cell_type": "code",
      "execution_count": 4,
      "id": "9355d5d0",
      "metadata": {
        "execution": {
          "iopub.execute_input": "2022-02-15T23:24:53.645402Z",
          "iopub.status.busy": "2022-02-15T23:24:53.643566Z",
          "iopub.status.idle": "2022-02-15T23:24:57.048633Z",
          "shell.execute_reply": "2022-02-15T23:24:57.048007Z",
          "shell.execute_reply.started": "2022-02-15T23:09:27.608367Z"
        },
        "papermill": {
          "duration": 3.430986,
          "end_time": "2022-02-15T23:24:57.048786",
          "exception": false,
          "start_time": "2022-02-15T23:24:53.617800",
          "status": "completed"
        },
        "tags": [],
        "id": "9355d5d0"
      },
      "outputs": [],
      "source": [
        "from fastai.vision.all import *\n",
        "from fastai.vision.widgets import *\n",
        "from fastai.imports import *"
      ]
    },
    {
      "cell_type": "code",
      "execution_count": 5,
      "id": "a407b9e5",
      "metadata": {
        "execution": {
          "iopub.execute_input": "2022-02-15T23:24:57.081937Z",
          "iopub.status.busy": "2022-02-15T23:24:57.081226Z",
          "iopub.status.idle": "2022-02-15T23:24:57.186212Z",
          "shell.execute_reply": "2022-02-15T23:24:57.186755Z",
          "shell.execute_reply.started": "2022-02-15T23:08:10.928376Z"
        },
        "papermill": {
          "duration": 0.124768,
          "end_time": "2022-02-15T23:24:57.186920",
          "exception": false,
          "start_time": "2022-02-15T23:24:57.062152",
          "status": "completed"
        },
        "tags": [],
        "colab": {
          "base_uri": "https://localhost:8080/",
          "height": 206
        },
        "id": "a407b9e5",
        "outputId": "348083fc-88e8-455e-b105-9a4b7c140eb5"
      },
      "outputs": [
        {
          "output_type": "execute_result",
          "data": {
            "text/plain": [
              "   suite_id  sample_id  code  value character           filename\n",
              "0         1          1    10      9         九   input_1_1_10.jpg\n",
              "1         1         10    10      9         九  input_1_10_10.jpg\n",
              "2         1          2    10      9         九   input_1_2_10.jpg\n",
              "3         1          3    10      9         九   input_1_3_10.jpg\n",
              "4         1          4    10      9         九   input_1_4_10.jpg"
            ],
            "text/html": [
              "\n",
              "  <div id=\"df-995f6b73-2f1a-4a3f-9077-58b1d931d451\">\n",
              "    <div class=\"colab-df-container\">\n",
              "      <div>\n",
              "<style scoped>\n",
              "    .dataframe tbody tr th:only-of-type {\n",
              "        vertical-align: middle;\n",
              "    }\n",
              "\n",
              "    .dataframe tbody tr th {\n",
              "        vertical-align: top;\n",
              "    }\n",
              "\n",
              "    .dataframe thead th {\n",
              "        text-align: right;\n",
              "    }\n",
              "</style>\n",
              "<table border=\"1\" class=\"dataframe\">\n",
              "  <thead>\n",
              "    <tr style=\"text-align: right;\">\n",
              "      <th></th>\n",
              "      <th>suite_id</th>\n",
              "      <th>sample_id</th>\n",
              "      <th>code</th>\n",
              "      <th>value</th>\n",
              "      <th>character</th>\n",
              "      <th>filename</th>\n",
              "    </tr>\n",
              "  </thead>\n",
              "  <tbody>\n",
              "    <tr>\n",
              "      <th>0</th>\n",
              "      <td>1</td>\n",
              "      <td>1</td>\n",
              "      <td>10</td>\n",
              "      <td>9</td>\n",
              "      <td>九</td>\n",
              "      <td>input_1_1_10.jpg</td>\n",
              "    </tr>\n",
              "    <tr>\n",
              "      <th>1</th>\n",
              "      <td>1</td>\n",
              "      <td>10</td>\n",
              "      <td>10</td>\n",
              "      <td>9</td>\n",
              "      <td>九</td>\n",
              "      <td>input_1_10_10.jpg</td>\n",
              "    </tr>\n",
              "    <tr>\n",
              "      <th>2</th>\n",
              "      <td>1</td>\n",
              "      <td>2</td>\n",
              "      <td>10</td>\n",
              "      <td>9</td>\n",
              "      <td>九</td>\n",
              "      <td>input_1_2_10.jpg</td>\n",
              "    </tr>\n",
              "    <tr>\n",
              "      <th>3</th>\n",
              "      <td>1</td>\n",
              "      <td>3</td>\n",
              "      <td>10</td>\n",
              "      <td>9</td>\n",
              "      <td>九</td>\n",
              "      <td>input_1_3_10.jpg</td>\n",
              "    </tr>\n",
              "    <tr>\n",
              "      <th>4</th>\n",
              "      <td>1</td>\n",
              "      <td>4</td>\n",
              "      <td>10</td>\n",
              "      <td>9</td>\n",
              "      <td>九</td>\n",
              "      <td>input_1_4_10.jpg</td>\n",
              "    </tr>\n",
              "  </tbody>\n",
              "</table>\n",
              "</div>\n",
              "      <button class=\"colab-df-convert\" onclick=\"convertToInteractive('df-995f6b73-2f1a-4a3f-9077-58b1d931d451')\"\n",
              "              title=\"Convert this dataframe to an interactive table.\"\n",
              "              style=\"display:none;\">\n",
              "        \n",
              "  <svg xmlns=\"http://www.w3.org/2000/svg\" height=\"24px\"viewBox=\"0 0 24 24\"\n",
              "       width=\"24px\">\n",
              "    <path d=\"M0 0h24v24H0V0z\" fill=\"none\"/>\n",
              "    <path d=\"M18.56 5.44l.94 2.06.94-2.06 2.06-.94-2.06-.94-.94-2.06-.94 2.06-2.06.94zm-11 1L8.5 8.5l.94-2.06 2.06-.94-2.06-.94L8.5 2.5l-.94 2.06-2.06.94zm10 10l.94 2.06.94-2.06 2.06-.94-2.06-.94-.94-2.06-.94 2.06-2.06.94z\"/><path d=\"M17.41 7.96l-1.37-1.37c-.4-.4-.92-.59-1.43-.59-.52 0-1.04.2-1.43.59L10.3 9.45l-7.72 7.72c-.78.78-.78 2.05 0 2.83L4 21.41c.39.39.9.59 1.41.59.51 0 1.02-.2 1.41-.59l7.78-7.78 2.81-2.81c.8-.78.8-2.07 0-2.86zM5.41 20L4 18.59l7.72-7.72 1.47 1.35L5.41 20z\"/>\n",
              "  </svg>\n",
              "      </button>\n",
              "      \n",
              "  <style>\n",
              "    .colab-df-container {\n",
              "      display:flex;\n",
              "      flex-wrap:wrap;\n",
              "      gap: 12px;\n",
              "    }\n",
              "\n",
              "    .colab-df-convert {\n",
              "      background-color: #E8F0FE;\n",
              "      border: none;\n",
              "      border-radius: 50%;\n",
              "      cursor: pointer;\n",
              "      display: none;\n",
              "      fill: #1967D2;\n",
              "      height: 32px;\n",
              "      padding: 0 0 0 0;\n",
              "      width: 32px;\n",
              "    }\n",
              "\n",
              "    .colab-df-convert:hover {\n",
              "      background-color: #E2EBFA;\n",
              "      box-shadow: 0px 1px 2px rgba(60, 64, 67, 0.3), 0px 1px 3px 1px rgba(60, 64, 67, 0.15);\n",
              "      fill: #174EA6;\n",
              "    }\n",
              "\n",
              "    [theme=dark] .colab-df-convert {\n",
              "      background-color: #3B4455;\n",
              "      fill: #D2E3FC;\n",
              "    }\n",
              "\n",
              "    [theme=dark] .colab-df-convert:hover {\n",
              "      background-color: #434B5C;\n",
              "      box-shadow: 0px 1px 3px 1px rgba(0, 0, 0, 0.15);\n",
              "      filter: drop-shadow(0px 1px 2px rgba(0, 0, 0, 0.3));\n",
              "      fill: #FFFFFF;\n",
              "    }\n",
              "  </style>\n",
              "\n",
              "      <script>\n",
              "        const buttonEl =\n",
              "          document.querySelector('#df-995f6b73-2f1a-4a3f-9077-58b1d931d451 button.colab-df-convert');\n",
              "        buttonEl.style.display =\n",
              "          google.colab.kernel.accessAllowed ? 'block' : 'none';\n",
              "\n",
              "        async function convertToInteractive(key) {\n",
              "          const element = document.querySelector('#df-995f6b73-2f1a-4a3f-9077-58b1d931d451');\n",
              "          const dataTable =\n",
              "            await google.colab.kernel.invokeFunction('convertToInteractive',\n",
              "                                                     [key], {});\n",
              "          if (!dataTable) return;\n",
              "\n",
              "          const docLinkHtml = 'Like what you see? Visit the ' +\n",
              "            '<a target=\"_blank\" href=https://colab.research.google.com/notebooks/data_table.ipynb>data table notebook</a>'\n",
              "            + ' to learn more about interactive tables.';\n",
              "          element.innerHTML = '';\n",
              "          dataTable['output_type'] = 'display_data';\n",
              "          await google.colab.output.renderOutput(dataTable, element);\n",
              "          const docLink = document.createElement('div');\n",
              "          docLink.innerHTML = docLinkHtml;\n",
              "          element.appendChild(docLink);\n",
              "        }\n",
              "      </script>\n",
              "    </div>\n",
              "  </div>\n",
              "  "
            ]
          },
          "metadata": {},
          "execution_count": 5
        }
      ],
      "source": [
        "path = Path(IMAGE_PATH)\n",
        "Path.BASE_PATH = path\n",
        "\n",
        "df = pd.read_csv(INFO_PATH)\n",
        "df[\"filename\"] = (\"input_\"+df[\"suite_id\"].astype(str)\n",
        "                 +\"_\"\n",
        "                 +df[\"sample_id\"].astype(str)\n",
        "                 +\"_\"\n",
        "                 +df[\"code\"].astype(str)\n",
        "                 +\".jpg\")\n",
        "df.head()"
      ]
    },
    {
      "cell_type": "code",
      "execution_count": 6,
      "id": "9ceb9ea8",
      "metadata": {
        "execution": {
          "iopub.execute_input": "2022-02-15T23:24:57.217690Z",
          "iopub.status.busy": "2022-02-15T23:24:57.216689Z",
          "iopub.status.idle": "2022-02-15T23:24:57.218686Z",
          "shell.execute_reply": "2022-02-15T23:24:57.219147Z",
          "shell.execute_reply.started": "2022-02-15T23:08:16.233061Z"
        },
        "papermill": {
          "duration": 0.019863,
          "end_time": "2022-02-15T23:24:57.219303",
          "exception": false,
          "start_time": "2022-02-15T23:24:57.199440",
          "status": "completed"
        },
        "tags": [],
        "id": "9ceb9ea8"
      },
      "outputs": [],
      "source": [
        "def get_x(r):\n",
        "    return path/r['filename']\n",
        "\n",
        "def get_y(r):\n",
        "    return r[\"value\"].astype(str).split(\" \")"
      ]
    },
    {
      "cell_type": "code",
      "execution_count": 7,
      "id": "988a3d10",
      "metadata": {
        "execution": {
          "iopub.execute_input": "2022-02-15T23:24:57.253965Z",
          "iopub.status.busy": "2022-02-15T23:24:57.252936Z",
          "iopub.status.idle": "2022-02-15T23:25:03.566140Z",
          "shell.execute_reply": "2022-02-15T23:25:03.565183Z",
          "shell.execute_reply.started": "2022-02-15T23:14:53.779074Z"
        },
        "papermill": {
          "duration": 6.334019,
          "end_time": "2022-02-15T23:25:03.566292",
          "exception": false,
          "start_time": "2022-02-15T23:24:57.232273",
          "status": "completed"
        },
        "tags": [],
        "id": "988a3d10"
      },
      "outputs": [],
      "source": [
        "DATABLOCK_IMAGE_SIZE = 64\n",
        "DATABLOCK_MIN_SCALE = 0.2\n",
        "\n",
        "dblock = DataBlock(blocks = (ImageBlock, MultiCategoryBlock),\n",
        "                   splitter = RandomSplitter(seed = 42),\n",
        "                   get_x = get_x,\n",
        "                   get_y = get_y,\n",
        "                   item_tfms = RandomResizedCrop(DATABLOCK_IMAGE_SIZE, \n",
        "                                                 min_scale = DATABLOCK_MIN_SCALE),)\n",
        "\n",
        "dls = dblock.dataloaders(df)"
      ]
    },
    {
      "cell_type": "code",
      "execution_count": 8,
      "id": "34405bcd",
      "metadata": {
        "execution": {
          "iopub.execute_input": "2022-02-15T23:25:03.612591Z",
          "iopub.status.busy": "2022-02-15T23:25:03.611818Z",
          "iopub.status.idle": "2022-02-15T23:25:05.074164Z",
          "shell.execute_reply": "2022-02-15T23:25:05.075349Z",
          "shell.execute_reply.started": "2022-02-15T23:14:57.980016Z"
        },
        "papermill": {
          "duration": 1.495935,
          "end_time": "2022-02-15T23:25:05.075601",
          "exception": false,
          "start_time": "2022-02-15T23:25:03.579666",
          "status": "completed"
        },
        "tags": [],
        "colab": {
          "base_uri": "https://localhost:8080/",
          "height": 752
        },
        "id": "34405bcd",
        "outputId": "56a99d0c-d9e2-4687-f305-d081bff9299e"
      },
      "outputs": [
        {
          "output_type": "display_data",
          "data": {
            "text/plain": [
              "<Figure size 900x900 with 9 Axes>"
            ],
            "image/png": "[encoded data removed]"
          },
          "metadata": {}
        }
      ],
      "source": [
        "dls.show_batch()"
      ]
    },
    {
      "cell_type": "code",
      "execution_count": 9,
      "id": "c0abe3a5",
      "metadata": {
        "execution": {
          "iopub.execute_input": "2022-02-15T23:25:05.131529Z",
          "iopub.status.busy": "2022-02-15T23:25:05.130460Z",
          "iopub.status.idle": "2022-02-15T23:27:43.050618Z",
          "shell.execute_reply": "2022-02-15T23:27:43.051078Z",
          "shell.execute_reply.started": "2022-02-15T23:15:18.642460Z"
        },
        "papermill": {
          "duration": 157.952128,
          "end_time": "2022-02-15T23:27:43.051236",
          "exception": false,
          "start_time": "2022-02-15T23:25:05.099108",
          "status": "completed"
        },
        "tags": [],
        "colab": {
          "base_uri": "https://localhost:8080/",
          "height": 339
        },
        "id": "c0abe3a5",
        "outputId": "467acfd3-580e-413e-a95c-04bf16cb8bed"
      },
      "outputs": [
        {
          "output_type": "stream",
          "name": "stderr",
          "text": [
            "/usr/local/lib/python3.10/dist-packages/fastai/vision/learner.py:288: UserWarning: `cnn_learner` has been renamed to `vision_learner` -- please update your code\n",
            "  warn(\"`cnn_learner` has been renamed to `vision_learner` -- please update your code\")\n",
            "/usr/local/lib/python3.10/dist-packages/torchvision/models/_utils.py:208: UserWarning: The parameter 'pretrained' is deprecated since 0.13 and may be removed in the future, please use 'weights' instead.\n",
            "  warnings.warn(\n",
            "/usr/local/lib/python3.10/dist-packages/torchvision/models/_utils.py:223: UserWarning: Arguments other than a weight enum or `None` for 'weights' are deprecated since 0.13 and may be removed in the future. The current behavior is equivalent to passing `weights=ResNet18_Weights.IMAGENET1K_V1`. You can also use `weights=ResNet18_Weights.DEFAULT` to get the most up-to-date weights.\n",
            "  warnings.warn(msg)\n",
            "Downloading: \"https://download.pytorch.org/models/resnet18-f37072fd.pth\" to /root/.cache/torch/hub/checkpoints/resnet18-f37072fd.pth\n",
            "100%|██████████| 44.7M/44.7M [00:00<00:00, 144MB/s]\n"
          ]
        },
        {
          "output_type": "display_data",
          "data": {
            "text/plain": [
              "<IPython.core.display.HTML object>"
            ],
            "text/html": [
              "\n",
              "<style>\n",
              "    /* Turns off some styling */\n",
              "    progress {\n",
              "        /* gets rid of default border in Firefox and Opera. */\n",
              "        border: none;\n",
              "        /* Needs to be in here for Safari polyfill so background images work as expected. */\n",
              "        background-size: auto;\n",
              "    }\n",
              "    progress:not([value]), progress:not([value])::-webkit-progress-bar {\n",
              "        background: repeating-linear-gradient(45deg, #7e7e7e, #7e7e7e 10px, #5c5c5c 10px, #5c5c5c 20px);\n",
              "    }\n",
              "    .progress-bar-interrupted, .progress-bar-interrupted::-webkit-progress-bar {\n",
              "        background: #F44336;\n",
              "    }\n",
              "</style>\n"
            ]
          },
          "metadata": {}
        },
        {
          "output_type": "display_data",
          "data": {
            "text/plain": [
              "<IPython.core.display.HTML object>"
            ],
            "text/html": [
              "<table border=\"1\" class=\"dataframe\">\n",
              "  <thead>\n",
              "    <tr style=\"text-align: left;\">\n",
              "      <th>epoch</th>\n",
              "      <th>train_loss</th>\n",
              "      <th>valid_loss</th>\n",
              "      <th>accuracy_multi</th>\n",
              "      <th>time</th>\n",
              "    </tr>\n",
              "  </thead>\n",
              "  <tbody>\n",
              "    <tr>\n",
              "      <td>0</td>\n",
              "      <td>0.172281</td>\n",
              "      <td>0.061197</td>\n",
              "      <td>0.971755</td>\n",
              "      <td>00:38</td>\n",
              "    </tr>\n",
              "  </tbody>\n",
              "</table>"
            ]
          },
          "metadata": {}
        },
        {
          "output_type": "display_data",
          "data": {
            "text/plain": [
              "<IPython.core.display.HTML object>"
            ],
            "text/html": [
              "\n",
              "<style>\n",
              "    /* Turns off some styling */\n",
              "    progress {\n",
              "        /* gets rid of default border in Firefox and Opera. */\n",
              "        border: none;\n",
              "        /* Needs to be in here for Safari polyfill so background images work as expected. */\n",
              "        background-size: auto;\n",
              "    }\n",
              "    progress:not([value]), progress:not([value])::-webkit-progress-bar {\n",
              "        background: repeating-linear-gradient(45deg, #7e7e7e, #7e7e7e 10px, #5c5c5c 10px, #5c5c5c 20px);\n",
              "    }\n",
              "    .progress-bar-interrupted, .progress-bar-interrupted::-webkit-progress-bar {\n",
              "        background: #F44336;\n",
              "    }\n",
              "</style>\n"
            ]
          },
          "metadata": {}
        },
        {
          "output_type": "display_data",
          "data": {
            "text/plain": [
              "<IPython.core.display.HTML object>"
            ],
            "text/html": [
              "<table border=\"1\" class=\"dataframe\">\n",
              "  <thead>\n",
              "    <tr style=\"text-align: left;\">\n",
              "      <th>epoch</th>\n",
              "      <th>train_loss</th>\n",
              "      <th>valid_loss</th>\n",
              "      <th>accuracy_multi</th>\n",
              "      <th>time</th>\n",
              "    </tr>\n",
              "  </thead>\n",
              "  <tbody>\n",
              "    <tr>\n",
              "      <td>0</td>\n",
              "      <td>0.056868</td>\n",
              "      <td>0.019141</td>\n",
              "      <td>0.993667</td>\n",
              "      <td>00:28</td>\n",
              "    </tr>\n",
              "    <tr>\n",
              "      <td>1</td>\n",
              "      <td>0.029297</td>\n",
              "      <td>0.002891</td>\n",
              "      <td>0.999067</td>\n",
              "      <td>00:31</td>\n",
              "    </tr>\n",
              "  </tbody>\n",
              "</table>"
            ]
          },
          "metadata": {}
        }
      ],
      "source": [
        "THRESH = 0.2\n",
        "FINE_TUNE_NUM  =2\n",
        "BASE_RL = 3e-2\n",
        "\n",
        "learn = cnn_learner(dls, resnet18, metrics = partial(accuracy_multi, thresh = THRESH))\n",
        "learn.fine_tune(FINE_TUNE_NUM, base_lr = BASE_RL)\n",
        "\n",
        "learn.unfreeze()"
      ]
    },
    {
      "cell_type": "code",
      "execution_count": 10,
      "id": "2a94ff56",
      "metadata": {
        "execution": {
          "iopub.execute_input": "2022-02-15T23:27:43.088075Z",
          "iopub.status.busy": "2022-02-15T23:27:43.085380Z",
          "iopub.status.idle": "2022-02-15T23:27:55.707198Z",
          "shell.execute_reply": "2022-02-15T23:27:55.706585Z",
          "shell.execute_reply.started": "2022-02-15T23:16:57.511280Z"
        },
        "papermill": {
          "duration": 12.640675,
          "end_time": "2022-02-15T23:27:55.707359",
          "exception": false,
          "start_time": "2022-02-15T23:27:43.066684",
          "status": "completed"
        },
        "tags": [],
        "id": "2a94ff56",
        "outputId": "1181cb35-3853-4e31-919b-cd306412f666",
        "colab": {
          "base_uri": "https://localhost:8080/",
          "height": 474
        }
      },
      "outputs": [
        {
          "output_type": "display_data",
          "data": {
            "text/plain": [
              "<IPython.core.display.HTML object>"
            ],
            "text/html": [
              "\n",
              "<style>\n",
              "    /* Turns off some styling */\n",
              "    progress {\n",
              "        /* gets rid of default border in Firefox and Opera. */\n",
              "        border: none;\n",
              "        /* Needs to be in here for Safari polyfill so background images work as expected. */\n",
              "        background-size: auto;\n",
              "    }\n",
              "    progress:not([value]), progress:not([value])::-webkit-progress-bar {\n",
              "        background: repeating-linear-gradient(45deg, #7e7e7e, #7e7e7e 10px, #5c5c5c 10px, #5c5c5c 20px);\n",
              "    }\n",
              "    .progress-bar-interrupted, .progress-bar-interrupted::-webkit-progress-bar {\n",
              "        background: #F44336;\n",
              "    }\n",
              "</style>\n"
            ]
          },
          "metadata": {}
        },
        {
          "output_type": "display_data",
          "data": {
            "text/plain": [
              "<IPython.core.display.HTML object>"
            ],
            "text/html": []
          },
          "metadata": {}
        },
        {
          "output_type": "execute_result",
          "data": {
            "text/plain": [
              "SuggestedLRs(valley=5.754399353463668e-06)"
            ]
          },
          "metadata": {},
          "execution_count": 10
        },
        {
          "output_type": "display_data",
          "data": {
            "text/plain": [
              "<Figure size 640x480 with 1 Axes>"
            ],
            "image/png": "[encoded data removed]"
          },
          "metadata": {}
        }
      ],
      "source": [
        "learn.lr_find()"
      ]
    },
    {
      "cell_type": "code",
      "execution_count": 11,
      "id": "f5d8c8f0",
      "metadata": {
        "execution": {
          "iopub.execute_input": "2022-02-15T23:27:55.753087Z",
          "iopub.status.busy": "2022-02-15T23:27:55.752147Z",
          "iopub.status.idle": "2022-02-15T23:29:09.380487Z",
          "shell.execute_reply": "2022-02-15T23:29:09.379889Z",
          "shell.execute_reply.started": "2022-02-15T23:17:19.466291Z"
        },
        "papermill": {
          "duration": 73.654687,
          "end_time": "2022-02-15T23:29:09.380643",
          "exception": false,
          "start_time": "2022-02-15T23:27:55.725956",
          "status": "completed"
        },
        "tags": [],
        "id": "f5d8c8f0",
        "outputId": "18839a7e-e267-457a-ca46-0b757ad0a673",
        "colab": {
          "base_uri": "https://localhost:8080/",
          "height": 112
        }
      },
      "outputs": [
        {
          "output_type": "display_data",
          "data": {
            "text/plain": [
              "<IPython.core.display.HTML object>"
            ],
            "text/html": [
              "\n",
              "<style>\n",
              "    /* Turns off some styling */\n",
              "    progress {\n",
              "        /* gets rid of default border in Firefox and Opera. */\n",
              "        border: none;\n",
              "        /* Needs to be in here for Safari polyfill so background images work as expected. */\n",
              "        background-size: auto;\n",
              "    }\n",
              "    progress:not([value]), progress:not([value])::-webkit-progress-bar {\n",
              "        background: repeating-linear-gradient(45deg, #7e7e7e, #7e7e7e 10px, #5c5c5c 10px, #5c5c5c 20px);\n",
              "    }\n",
              "    .progress-bar-interrupted, .progress-bar-interrupted::-webkit-progress-bar {\n",
              "        background: #F44336;\n",
              "    }\n",
              "</style>\n"
            ]
          },
          "metadata": {}
        },
        {
          "output_type": "display_data",
          "data": {
            "text/plain": [
              "<IPython.core.display.HTML object>"
            ],
            "text/html": [
              "<table border=\"1\" class=\"dataframe\">\n",
              "  <thead>\n",
              "    <tr style=\"text-align: left;\">\n",
              "      <th>epoch</th>\n",
              "      <th>train_loss</th>\n",
              "      <th>valid_loss</th>\n",
              "      <th>accuracy_multi</th>\n",
              "      <th>time</th>\n",
              "    </tr>\n",
              "  </thead>\n",
              "  <tbody>\n",
              "    <tr>\n",
              "      <td>0</td>\n",
              "      <td>0.021229</td>\n",
              "      <td>0.002347</td>\n",
              "      <td>0.999311</td>\n",
              "      <td>00:29</td>\n",
              "    </tr>\n",
              "    <tr>\n",
              "      <td>1</td>\n",
              "      <td>0.021678</td>\n",
              "      <td>0.002040</td>\n",
              "      <td>0.999378</td>\n",
              "      <td>00:28</td>\n",
              "    </tr>\n",
              "  </tbody>\n",
              "</table>"
            ]
          },
          "metadata": {}
        }
      ],
      "source": [
        "learn.fit_one_cycle(FINE_TUNE_NUM, 7.585775892948732e-05)"
      ]
    },
    {
      "cell_type": "code",
      "execution_count": 12,
      "id": "c1901927",
      "metadata": {
        "execution": {
          "iopub.execute_input": "2022-02-15T23:29:09.428198Z",
          "iopub.status.busy": "2022-02-15T23:29:09.427303Z",
          "iopub.status.idle": "2022-02-15T23:29:10.365375Z",
          "shell.execute_reply": "2022-02-15T23:29:10.365831Z",
          "shell.execute_reply.started": "2022-02-15T23:23:04.165624Z"
        },
        "papermill": {
          "duration": 0.966249,
          "end_time": "2022-02-15T23:29:10.365983",
          "exception": false,
          "start_time": "2022-02-15T23:29:09.399734",
          "status": "completed"
        },
        "tags": [],
        "id": "c1901927",
        "outputId": "b3b704a6-496f-416f-b657-09df7c240c31",
        "colab": {
          "base_uri": "https://localhost:8080/",
          "height": 773
        }
      },
      "outputs": [
        {
          "output_type": "display_data",
          "data": {
            "text/plain": [
              "<IPython.core.display.HTML object>"
            ],
            "text/html": [
              "\n",
              "<style>\n",
              "    /* Turns off some styling */\n",
              "    progress {\n",
              "        /* gets rid of default border in Firefox and Opera. */\n",
              "        border: none;\n",
              "        /* Needs to be in here for Safari polyfill so background images work as expected. */\n",
              "        background-size: auto;\n",
              "    }\n",
              "    progress:not([value]), progress:not([value])::-webkit-progress-bar {\n",
              "        background: repeating-linear-gradient(45deg, #7e7e7e, #7e7e7e 10px, #5c5c5c 10px, #5c5c5c 20px);\n",
              "    }\n",
              "    .progress-bar-interrupted, .progress-bar-interrupted::-webkit-progress-bar {\n",
              "        background: #F44336;\n",
              "    }\n",
              "</style>\n"
            ]
          },
          "metadata": {}
        },
        {
          "output_type": "display_data",
          "data": {
            "text/plain": [
              "<IPython.core.display.HTML object>"
            ],
            "text/html": []
          },
          "metadata": {}
        },
        {
          "output_type": "display_data",
          "data": {
            "text/plain": [
              "<Figure size 900x900 with 9 Axes>"
            ],
            "image/png": "[encoded data removed]"
          },
          "metadata": {}
        }
      ],
      "source": [
        "learn.show_results()"
      ]
    }
  ],
  "metadata": {
    "kernelspec": {
      "display_name": "Python 3",
      "name": "python3"
    },
    "language_info": {
      "codemirror_mode": {
        "name": "ipython",
        "version": 3
      },
      "file_extension": ".py",
      "mimetype": "text/x-python",
      "name": "python",
      "nbconvert_exporter": "python",
      "pygments_lexer": "ipython3",
      "version": "3.7.12"
    },
    "papermill": {
      "default_parameters": {},
      "duration": 268.710261,
      "end_time": "2022-02-15T23:29:12.685474",
      "environment_variables": {},
      "exception": null,
      "input_path": "__notebook__.ipynb",
      "output_path": "__notebook__.ipynb",
      "parameters": {},
      "start_time": "2022-02-15T23:24:43.975213",
      "version": "2.3.3"
    },
    "colab": {
      "provenance": [],
      "gpuType": "T4"
    },
    "accelerator": "GPU"
  },
  "nbformat": 4,
  "nbformat_minor": 5
}